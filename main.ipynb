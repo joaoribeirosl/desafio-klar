{
 "cells": [
  {
   "cell_type": "code",
   "execution_count": 18,
   "metadata": {},
   "outputs": [],
   "source": [
    "import os\n",
    "import pydicom\n",
    "import numpy as np\n",
    "import tensorflow as tf\n",
    "import cv2\n",
    "from tensorflow.keras.layers import Conv2D, MaxPooling2D, UpSampling2D, Input\n",
    "from tensorflow.keras.models import Model\n",
    "from skimage.metrics import structural_similarity as ssim\n",
    "import matplotlib.pyplot as plt"
   ]
  },
  {
   "cell_type": "code",
   "execution_count": null,
   "metadata": {},
   "outputs": [
    {
     "name": "stdout",
     "output_type": "stream",
     "text": [
      "Imagens Quarter Dose: (16628, 128, 128)\n",
      "Imagens Full Dose: (16628, 128, 128)\n",
      "Quarter Dose após expandir: (16628, 128, 128, 1)\n",
      "Full Dose após expandir: (16628, 128, 128, 1)\n"
     ]
    }
   ],
   "source": [
    "DATASET_PATH = \"C:/Users/jrsl2/Downloads/archive/CT_low_dose_reconstruction_dataset\"\n",
    "\n",
    "def load_dicom_images(folder, size=(128, 128)):\n",
    "    images = []\n",
    "    for root, _, files in os.walk(folder):\n",
    "        for file in files:\n",
    "            if file.endswith((\".IMA\", \".dcm\")):  \n",
    "                path = os.path.join(root, file)\n",
    "                try:\n",
    "                    dicom_data = pydicom.dcmread(path)\n",
    "                    image = dicom_data.pixel_array\n",
    "                    image = cv2.resize(image, size)\n",
    "                    image = image.astype(np.float32) / np.max(image)  \n",
    "                    images.append(image)\n",
    "                except Exception as e:\n",
    "                    print(f\"Error {path}: {e}\")\n",
    "    print(f\" {folder}: {len(images)}\")\n",
    "    return np.array(images)\n",
    "\n",
    "original_data_path = os.path.join(DATASET_PATH, \"Original Data\")\n",
    "\n",
    "quarter_dose_images = None\n",
    "full_dose_images = None\n",
    "\n",
    "for dose_type in [\"Quarter Dose\", \"Full Dose\"]:\n",
    "    dose_path = os.path.join(original_data_path, dose_type)\n",
    "    images = load_dicom_images(dose_path) \n",
    "\n",
    "    if dose_type == \"Quarter Dose\":\n",
    "        quarter_dose_images = images\n",
    "    else:\n",
    "        full_dose_images = images \n",
    "\n",
    "print(f\"{quarter_dose_images.shape}\")\n",
    "print(f\"{full_dose_images.shape}\")\n",
    "\n",
    "\n",
    "quarter_dose_images = np.expand_dims(quarter_dose_images, axis=-1)\n",
    "full_dose_images = np.expand_dims(full_dose_images, axis=-1)\n",
    "\n",
    "print(f\"{quarter_dose_images.shape}\")\n",
    "print(f\"{full_dose_images.shape}\")\n"
   ]
  },
  {
   "cell_type": "code",
   "execution_count": null,
   "metadata": {},
   "outputs": [],
   "source": [
    "# Definir Autoencoder Convolucional\n",
    "def build_autoencoder(input_shape):\n",
    "    inputs = Input(shape=input_shape)\n",
    "    \n",
    "    # Encoder\n",
    "    x = Conv2D(32, (3,3), activation='relu', padding='same')(inputs)\n",
    "    x = MaxPooling2D((2,2), padding='same')(x)\n",
    "    x = Conv2D(64, (3,3), activation='relu', padding='same')(x)\n",
    "    x = MaxPooling2D((2,2), padding='same')(x)\n",
    "    \n",
    "    # Decoder\n",
    "    x = Conv2D(64, (3,3), activation='relu', padding='same')(x)\n",
    "    x = UpSampling2D((2,2))(x)\n",
    "    x = Conv2D(32, (3,3), activation='relu', padding='same')(x)\n",
    "    x = UpSampling2D((2,2))(x)\n",
    "    outputs = Conv2D(1, (3,3), activation='sigmoid', padding='same')(x)\n",
    "    \n",
    "    return Model(inputs, outputs)\n",
    "\n",
    "# Criar e compilar o modelo\n",
    "autoencoder = build_autoencoder((128, 128, 1))\n",
    "autoencoder.compile(optimizer='adam', loss='mse')\n",
    "\n",
    "# Treinar o modelo\n",
    "autoencoder.fit(quarter_dose_images, full_dose_images, epochs=10, batch_size=8, shuffle=True)\n",
    "\n"
   ]
  },
  {
   "cell_type": "code",
   "execution_count": null,
   "metadata": {},
   "outputs": [],
   "source": [
    "# Testar o modelo em uma imagem\n",
    "def test_denoising(model, test_image):\n",
    "    denoised_image = model.predict(np.expand_dims(test_image, axis=0))[0]\n",
    "    return denoised_image\n",
    "\n",
    "# Escolher uma imagem para teste\n",
    "test_index = 5\n",
    "test_image = quarter_dose_images[test_index]\n",
    "clean_image = full_dose_images[test_index]\n",
    "denosed_image = test_denoising(autoencoder, test_image)\n",
    "\n",
    "# Avaliação com SSIM\n",
    "similarity = ssim(clean_image.squeeze(), denosed_image.squeeze())\n",
    "print(f\"SSIM: {similarity:.4f}\")\n",
    "\n",
    "# Mostrar imagens\n",
    "fig, ax = plt.subplots(1, 3, figsize=(15, 5))\n",
    "ax[0].imshow(test_image.squeeze(), cmap='gray')\n",
    "ax[0].set_title(\"Quarter Dose (ruidoso)\")\n",
    "ax[1].imshow(clean_image.squeeze(), cmap='gray')\n",
    "ax[1].set_title(\"Full Dose (limpo)\")\n",
    "ax[2].imshow(denosed_image.squeeze(), cmap='gray')\n",
    "ax[2].set_title(\"Após remoção de ruído\")\n",
    "plt.show()"
   ]
  },
  {
   "cell_type": "code",
   "execution_count": null,
   "metadata": {},
   "outputs": [],
   "source": []
  }
 ],
 "metadata": {
  "kernelspec": {
   "display_name": "venv",
   "language": "python",
   "name": "python3"
  },
  "language_info": {
   "codemirror_mode": {
    "name": "ipython",
    "version": 3
   },
   "file_extension": ".py",
   "mimetype": "text/x-python",
   "name": "python",
   "nbconvert_exporter": "python",
   "pygments_lexer": "ipython3",
   "version": "3.12.9"
  }
 },
 "nbformat": 4,
 "nbformat_minor": 2
}
